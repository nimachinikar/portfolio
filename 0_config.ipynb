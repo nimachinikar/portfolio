{
 "cells": [
  {
   "attachments": {},
   "cell_type": "markdown",
   "metadata": {},
   "source": [
    "# <a id='toc1_'></a>[Configuration File](#toc0_)\n",
    "\n",
    "Created on Fri Jun 30 14:39:05 2023\n",
    "\n",
    "@author: Nima\n"
   ]
  },
  {
   "cell_type": "code",
   "execution_count": 4,
   "metadata": {},
   "outputs": [],
   "source": [
    "import pandas as pd\n",
    "\n",
    "# Create an empty DataFrame\n",
    "df = pd.DataFrame()"
   ]
  },
  {
   "cell_type": "code",
   "execution_count": 5,
   "metadata": {},
   "outputs": [],
   "source": [
    "def is_info_completed(col):\n",
    "    '''\n",
    "    A new binary column will replace the selected column\n",
    "    If the selected column is not null AND is not only whitespace,\n",
    "    The value of the new column in that case will be True = 1\n",
    "    '''\n",
    "    df_subset[col] = ((df_subset[col].notnull()) & (df_subset[col].str.strip() != '')).astype(int)\n"
   ]
  },
  {
   "cell_type": "code",
   "execution_count": 6,
   "metadata": {},
   "outputs": [],
   "source": [
    "def info_somewhere_else(col, group_by) :\n",
    "    '''\n",
    "    Assessing if a missing value in a specific column \n",
    "    is not populated in another line (for a host id)\n",
    "    \n",
    "    Returning a dataframe with host_id existing with and without {col}\n",
    "    '''\n",
    "    #Finding all the host_id with no col (ex: host_response_time)\n",
    "    null_host_id = df_subset[df_subset[col].isnull()][group_by].unique()\n",
    "    #Subsetting df_subset to those host_id\n",
    "    host_id_with_one_null = df_subset[df_subset[group_by].isin(null_host_id)][[group_by, col]].drop_duplicates()\n",
    "    #keeping host_id that exists with and without col (ex: host_response_time)\n",
    "    filtering_host_id = host_id_with_one_null[host_id_with_one_null[col].notnull()]\n",
    "    \n",
    "    print(f'there is/are {filtering_host_id.shape[0]} {group_by} that exists with a {col} and without')\n",
    "    return filtering_host_id"
   ]
  },
  {
   "cell_type": "code",
   "execution_count": 7,
   "metadata": {},
   "outputs": [],
   "source": [
    "def proxy_mean(column_to_improve,group_by,round_val=0):\n",
    "    '''\n",
    "    By group_by category (ex: property type), this function replaces the Nan in a selected column (column to improve)\n",
    "    by its average\n",
    "    \n",
    "    round_val = number of decimal in final output (bedroom is .0 and bathroom is .1 for example)\n",
    "    cti= column_to_improve\n",
    "    '''\n",
    "    \n",
    "    # Property type with column_to_improve is nan\n",
    "    pt_nan_cti=df_subset[df_subset[column_to_improve].isnull()]\n",
    "    pt_nan_cti=pt_nan_cti[group_by].unique()\n",
    "             \n",
    "    #filling empty cells with the mean value of for each property type:\n",
    "    id_with_nan = df_subset[df_subset[column_to_improve].isnull()].index\n",
    "\n",
    "    for idx in id_with_nan:\n",
    "        property_type = df_subset.loc[idx, group_by]\n",
    "    \n",
    "        for pt in pt_nan_cti:\n",
    "            if property_type == pt:\n",
    "                mean_cti = round(df_subset[df_subset[group_by] == pt][column_to_improve].mean(),round_val)\n",
    "\n",
    "                df_subset.loc[idx, column_to_improve] = mean_cti"
   ]
  },
  {
   "cell_type": "code",
   "execution_count": 8,
   "metadata": {},
   "outputs": [],
   "source": [
    "def plot_all_r2():\n",
    "  length = len(prediction_dictionaries)\n",
    "  n_col = 2\n",
    "  if length < 2:\n",
    "    n_col = length % 2\n",
    "  \n",
    "  nrow = 1\n",
    "  if(length > 2):\n",
    "    nrow = int(length / 2) \n",
    "    if length % 2 != 0:\n",
    "      nrow+=1\n",
    "  \n",
    "  fig, axes = plt.subplots(nrow, n_col, figsize=( 16, 3 * length))\n",
    "  for ax, key in zip(axes.flatten(), prediction_dictionaries.keys()):\n",
    "    sns.regplot(x=prediction_dictionaries[key], y=y_test, ax=ax)\n",
    "    ax.set_title(\"The correlation line in {}\".format(key))\n",
    "  plt.show()"
   ]
  }
 ],
 "metadata": {
  "kernelspec": {
   "display_name": "base",
   "language": "python",
   "name": "python3"
  },
  "language_info": {
   "codemirror_mode": {
    "name": "ipython",
    "version": 3
   },
   "file_extension": ".py",
   "mimetype": "text/x-python",
   "name": "python",
   "nbconvert_exporter": "python",
   "pygments_lexer": "ipython3",
   "version": "3.8.16"
  },
  "orig_nbformat": 4
 },
 "nbformat": 4,
 "nbformat_minor": 2
}
