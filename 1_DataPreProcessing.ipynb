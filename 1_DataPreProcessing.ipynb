{
 "cells": [
  {
   "attachments": {},
   "cell_type": "markdown",
   "metadata": {},
   "source": [
    "# <a id='toc1_'></a>[Airbnb Vancouver: 1_Data preprocessiong](#toc0_)\n",
    "\n",
    "Nima - nimachinikar@gmail.com - June 30th, 2023  \n"
   ]
  },
  {
   "attachments": {},
   "cell_type": "markdown",
   "metadata": {},
   "source": [
    "**Table of contents**<a id='toc0_'></a>    \n",
    "- [Airbnb Vancouver: 1_Data preprocessiong](#toc1_)    \n",
    "- [1. Intro ](#toc2_)    \n",
    "  - [1.1. Key Questions](#toc2_1_)    \n",
    "  - [1.2. Assumptions and Methods](#toc2_2_)    \n",
    "  - [1.3. Setup and Data Collection](#toc2_3_)    \n",
    "  - [1.4. Overview Data](#toc2_4_)    \n",
    "- [2. Missing Data](#toc3_)    \n",
    "  - [2.1 Inventory](#toc3_1_)    \n",
    "  - [2.2 Dealing with missing data](#toc3_2_)    \n",
    "    - [2.2.1. Creating binary columns ](#toc3_2_1_)    \n",
    "    - [2.2.2. Missing first and last review ](#toc3_2_2_)    \n",
    "    - [2.2.3. Missing reviews_per_month ](#toc3_2_3_)    \n",
    "    - [2.2.4. Missing review_scores_rating ](#toc3_2_4_)    \n",
    "    - [2.2.5. Missing host_acceptance_rate ](#toc3_2_5_)    \n",
    "    - [2.2.6. Missing Bedrooms  ](#toc3_2_6_)    \n",
    "      - [2.2.6.1. Are they studios ?  ](#toc3_2_6_1_)    \n",
    "      - [2.2.6.2. Capturing when digit + key words  ](#toc3_2_6_2_)    \n",
    "      - [2.2.6.3. Capturing when letters + key words ?  ](#toc3_2_6_3_)    \n",
    "      - [2.2.6.4. Bedrooms and beds when private room  ](#toc3_2_6_4_)    \n",
    "      - [2.2.6.5. Bedrooms and Camper/ RV  ](#toc3_2_6_5_)    \n",
    "      - [2.2.6.6.  Bedrooms in Entire appartment with One Bed  ](#toc3_2_6_6_)    \n",
    "    - [2.2.7 Transforming dataset  ](#toc3_2_7_)    \n",
    "    - [2.2.8 Filling empty cells with the mean value by category  ](#toc3_2_8_)    \n",
    "    - [2.2.9 Missing bathrooms_text  ](#toc3_2_9_)    \n",
    "    - [2.2.10  Missing host_response_time  ](#toc3_2_10_)    \n",
    "    - [2.2.11. Missing host_response_rate and host_acceptance_rate  ](#toc3_2_11_)    \n",
    "  - [2.3 New Inventory ](#toc3_3_)    \n",
    "- [3. Transformation](#toc4_)    \n",
    "  - [3.1. Percentage to Float ](#toc4_1_)    \n",
    "  - [3.2. T/F by 1/0 ](#toc4_2_)    \n",
    "  - [3.3. Removing $ from 'Amount' ](#toc4_3_)    \n",
    "  - [3.4. Feature Engineering ](#toc4_4_)    \n",
    "  - [3.4.1. Amenities ](#toc4_5_)    \n",
    "  - [3.4.2. Host Verifications ](#toc4_6_)    \n",
    "- [4. Save transformation](#toc5_)    \n",
    "\n",
    "<!-- vscode-jupyter-toc-config\n",
    "\tnumbering=false\n",
    "\tanchor=true\n",
    "\tflat=false\n",
    "\tminLevel=1\n",
    "\tmaxLevel=6\n",
    "\t/vscode-jupyter-toc-config -->\n",
    "<!-- THIS CELL WILL BE REPLACED ON TOC UPDATE. DO NOT WRITE YOUR TEXT IN THIS CELL -->"
   ]
  },
  {
   "attachments": {},
   "cell_type": "markdown",
   "metadata": {},
   "source": []
  },
  {
   "attachments": {},
   "cell_type": "markdown",
   "metadata": {},
   "source": [
    "# <a id='toc2_'></a>[1. Intro ](#toc0_)"
   ]
  },
  {
   "attachments": {},
   "cell_type": "markdown",
   "metadata": {},
   "source": [
    "## <a id='toc2_1_'></a>[1.1. Key Questions](#toc0_)"
   ]
  },
  {
   "cell_type": "markdown",
   "metadata": {},
   "source": [
    "I've used Vancouver'Airbnb data from http://insideairbnb.com/vancouver/. I'll use this dataset to learn the pattern of the price with the aim to develop a model to predict it. \n",
    "\n",
    "The work is divided in:\n",
    "- a config file\n",
    "- Date Pre Processing\n",
    "- EDA\n",
    "- Modeling\n",
    "- (Model comparison)\n",
    "\n",
    "This specific file will focus on cleaning the dataset and filling the missing values. Some assumption are made along the development, they are summurize in the next point and repeated within the code when there is a code applying them."
   ]
  },
  {
   "attachments": {},
   "cell_type": "markdown",
   "metadata": {},
   "source": [
    "## <a id='toc2_2_'></a>[1.2. Assumptions and Methods](#toc0_)\n",
    "\n",
    "- A host is considered as having never accepted a guest, when availability_365 = 365 and property has no review\n",
    "- No 2 private rooms can be rented within the same listing\n",
    "- Camper/RV has no room\n",
    "- Tthere is only one bedroom if there is one bed  "
   ]
  },
  {
   "attachments": {},
   "cell_type": "markdown",
   "metadata": {},
   "source": [
    "\n",
    "## <a id='toc2_3_'></a>[1.3. Setup and Data Collection](#toc0_)\n",
    "\n"
   ]
  },
  {
   "cell_type": "code",
   "execution_count": 175,
   "metadata": {},
   "outputs": [],
   "source": [
    "import pandas as pd\n",
    "import numpy as np\n",
    "import matplotlib.pyplot as plt\n",
    "from datetime import datetime\n",
    "import re\n",
    "from collections import Counter"
   ]
  },
  {
   "cell_type": "code",
   "execution_count": 176,
   "metadata": {},
   "outputs": [],
   "source": [
    "# Load the data\n",
    "df = pd.read_csv('../../Users/Nima/Downloads/listings.csv')"
   ]
  },
  {
   "cell_type": "code",
   "execution_count": 177,
   "metadata": {},
   "outputs": [],
   "source": [
    "# Read and execute the contents of \"other_file.py\"\n",
    "exec(open('..\\\\..\\\\GitHub\\\\Capstone\\\\0_config.py').read())"
   ]
  },
  {
   "attachments": {},
   "cell_type": "markdown",
   "metadata": {},
   "source": [
    "\n",
    "## <a id='toc2_4_'></a>[1.4. Overview Data](#toc0_)\n",
    "\n"
   ]
  },
  {
   "cell_type": "code",
   "execution_count": 178,
   "metadata": {},
   "outputs": [
    {
     "data": {
      "text/html": [
       "<div>\n",
       "<style scoped>\n",
       "    .dataframe tbody tr th:only-of-type {\n",
       "        vertical-align: middle;\n",
       "    }\n",
       "\n",
       "    .dataframe tbody tr th {\n",
       "        vertical-align: top;\n",
       "    }\n",
       "\n",
       "    .dataframe thead th {\n",
       "        text-align: right;\n",
       "    }\n",
       "</style>\n",
       "<table border=\"1\" class=\"dataframe\">\n",
       "  <thead>\n",
       "    <tr style=\"text-align: right;\">\n",
       "      <th></th>\n",
       "      <th>id</th>\n",
       "      <th>listing_url</th>\n",
       "      <th>scrape_id</th>\n",
       "      <th>last_scraped</th>\n",
       "      <th>source</th>\n",
       "      <th>name</th>\n",
       "      <th>description</th>\n",
       "      <th>neighborhood_overview</th>\n",
       "      <th>picture_url</th>\n",
       "      <th>host_id</th>\n",
       "      <th>...</th>\n",
       "      <th>review_scores_communication</th>\n",
       "      <th>review_scores_location</th>\n",
       "      <th>review_scores_value</th>\n",
       "      <th>license</th>\n",
       "      <th>instant_bookable</th>\n",
       "      <th>calculated_host_listings_count</th>\n",
       "      <th>calculated_host_listings_count_entire_homes</th>\n",
       "      <th>calculated_host_listings_count_private_rooms</th>\n",
       "      <th>calculated_host_listings_count_shared_rooms</th>\n",
       "      <th>reviews_per_month</th>\n",
       "    </tr>\n",
       "  </thead>\n",
       "  <tbody>\n",
       "    <tr>\n",
       "      <th>0</th>\n",
       "      <td>13358</td>\n",
       "      <td>https://www.airbnb.com/rooms/13358</td>\n",
       "      <td>20230314070648</td>\n",
       "      <td>2023-03-14</td>\n",
       "      <td>city scrape</td>\n",
       "      <td>Designer Styled One Bedroom Downtown Vancouver</td>\n",
       "      <td>&lt;b&gt;The space&lt;/b&gt;&lt;br /&gt;This suites central loca...</td>\n",
       "      <td>NaN</td>\n",
       "      <td>https://a0.muscache.com/pictures/40034c18-0837...</td>\n",
       "      <td>52116</td>\n",
       "      <td>...</td>\n",
       "      <td>4.80</td>\n",
       "      <td>4.92</td>\n",
       "      <td>4.68</td>\n",
       "      <td>22-311727</td>\n",
       "      <td>f</td>\n",
       "      <td>1</td>\n",
       "      <td>1</td>\n",
       "      <td>0</td>\n",
       "      <td>0</td>\n",
       "      <td>2.86</td>\n",
       "    </tr>\n",
       "    <tr>\n",
       "      <th>1</th>\n",
       "      <td>13490</td>\n",
       "      <td>https://www.airbnb.com/rooms/13490</td>\n",
       "      <td>20230314070648</td>\n",
       "      <td>2023-03-14</td>\n",
       "      <td>city scrape</td>\n",
       "      <td>Vancouver's best kept secret</td>\n",
       "      <td>This apartment rents for one month blocks of t...</td>\n",
       "      <td>In the heart of Vancouver, this apartment has ...</td>\n",
       "      <td>https://a0.muscache.com/pictures/73394727/79d5...</td>\n",
       "      <td>52467</td>\n",
       "      <td>...</td>\n",
       "      <td>4.97</td>\n",
       "      <td>4.78</td>\n",
       "      <td>4.88</td>\n",
       "      <td>NaN</td>\n",
       "      <td>f</td>\n",
       "      <td>1</td>\n",
       "      <td>1</td>\n",
       "      <td>0</td>\n",
       "      <td>0</td>\n",
       "      <td>0.67</td>\n",
       "    </tr>\n",
       "    <tr>\n",
       "      <th>2</th>\n",
       "      <td>14267</td>\n",
       "      <td>https://www.airbnb.com/rooms/14267</td>\n",
       "      <td>20230314070648</td>\n",
       "      <td>2023-03-14</td>\n",
       "      <td>previous scrape</td>\n",
       "      <td>EcoLoft Vancouver</td>\n",
       "      <td>The Ecoloft is located in the lovely, family r...</td>\n",
       "      <td>We live in the centre of the city of Vancouver...</td>\n",
       "      <td>https://a0.muscache.com/pictures/3646de9b-934e...</td>\n",
       "      <td>56030</td>\n",
       "      <td>...</td>\n",
       "      <td>4.68</td>\n",
       "      <td>4.77</td>\n",
       "      <td>4.71</td>\n",
       "      <td>21-156500</td>\n",
       "      <td>t</td>\n",
       "      <td>1</td>\n",
       "      <td>1</td>\n",
       "      <td>0</td>\n",
       "      <td>0</td>\n",
       "      <td>0.22</td>\n",
       "    </tr>\n",
       "    <tr>\n",
       "      <th>3</th>\n",
       "      <td>14424</td>\n",
       "      <td>https://www.airbnb.com/rooms/14424</td>\n",
       "      <td>20230314070648</td>\n",
       "      <td>2023-03-14</td>\n",
       "      <td>city scrape</td>\n",
       "      <td>Spacious one-bedroom in sought-after Strathcona</td>\n",
       "      <td>&lt;b&gt;The space&lt;/b&gt;&lt;br /&gt;Welcome to Strathcona --...</td>\n",
       "      <td>NaN</td>\n",
       "      <td>https://a0.muscache.com/pictures/miso/Hosting-...</td>\n",
       "      <td>56709</td>\n",
       "      <td>...</td>\n",
       "      <td>4.72</td>\n",
       "      <td>4.60</td>\n",
       "      <td>4.74</td>\n",
       "      <td>19-162091</td>\n",
       "      <td>f</td>\n",
       "      <td>4</td>\n",
       "      <td>4</td>\n",
       "      <td>0</td>\n",
       "      <td>0</td>\n",
       "      <td>1.66</td>\n",
       "    </tr>\n",
       "    <tr>\n",
       "      <th>4</th>\n",
       "      <td>16254</td>\n",
       "      <td>https://www.airbnb.com/rooms/16254</td>\n",
       "      <td>20230314070648</td>\n",
       "      <td>2023-03-14</td>\n",
       "      <td>city scrape</td>\n",
       "      <td>Close to PNE/Hastings Park Garden level suite</td>\n",
       "      <td>2 Bedroom garden level guest suite.(lower leve...</td>\n",
       "      <td>Good Eats, Cute Shops and all the personality ...</td>\n",
       "      <td>https://a0.muscache.com/pictures/d0cdc9b4-5937...</td>\n",
       "      <td>63238</td>\n",
       "      <td>...</td>\n",
       "      <td>5.00</td>\n",
       "      <td>4.86</td>\n",
       "      <td>4.29</td>\n",
       "      <td>19-162421</td>\n",
       "      <td>f</td>\n",
       "      <td>1</td>\n",
       "      <td>1</td>\n",
       "      <td>0</td>\n",
       "      <td>0</td>\n",
       "      <td>0.12</td>\n",
       "    </tr>\n",
       "  </tbody>\n",
       "</table>\n",
       "<p>5 rows × 75 columns</p>\n",
       "</div>"
      ],
      "text/plain": [
       "      id                         listing_url       scrape_id last_scraped  \\\n",
       "0  13358  https://www.airbnb.com/rooms/13358  20230314070648   2023-03-14   \n",
       "1  13490  https://www.airbnb.com/rooms/13490  20230314070648   2023-03-14   \n",
       "2  14267  https://www.airbnb.com/rooms/14267  20230314070648   2023-03-14   \n",
       "3  14424  https://www.airbnb.com/rooms/14424  20230314070648   2023-03-14   \n",
       "4  16254  https://www.airbnb.com/rooms/16254  20230314070648   2023-03-14   \n",
       "\n",
       "            source                                             name  \\\n",
       "0      city scrape   Designer Styled One Bedroom Downtown Vancouver   \n",
       "1      city scrape                     Vancouver's best kept secret   \n",
       "2  previous scrape                                EcoLoft Vancouver   \n",
       "3      city scrape  Spacious one-bedroom in sought-after Strathcona   \n",
       "4      city scrape    Close to PNE/Hastings Park Garden level suite   \n",
       "\n",
       "                                         description  \\\n",
       "0  <b>The space</b><br />This suites central loca...   \n",
       "1  This apartment rents for one month blocks of t...   \n",
       "2  The Ecoloft is located in the lovely, family r...   \n",
       "3  <b>The space</b><br />Welcome to Strathcona --...   \n",
       "4  2 Bedroom garden level guest suite.(lower leve...   \n",
       "\n",
       "                               neighborhood_overview  \\\n",
       "0                                                NaN   \n",
       "1  In the heart of Vancouver, this apartment has ...   \n",
       "2  We live in the centre of the city of Vancouver...   \n",
       "3                                                NaN   \n",
       "4  Good Eats, Cute Shops and all the personality ...   \n",
       "\n",
       "                                         picture_url  host_id  ...  \\\n",
       "0  https://a0.muscache.com/pictures/40034c18-0837...    52116  ...   \n",
       "1  https://a0.muscache.com/pictures/73394727/79d5...    52467  ...   \n",
       "2  https://a0.muscache.com/pictures/3646de9b-934e...    56030  ...   \n",
       "3  https://a0.muscache.com/pictures/miso/Hosting-...    56709  ...   \n",
       "4  https://a0.muscache.com/pictures/d0cdc9b4-5937...    63238  ...   \n",
       "\n",
       "  review_scores_communication review_scores_location review_scores_value  \\\n",
       "0                        4.80                   4.92                4.68   \n",
       "1                        4.97                   4.78                4.88   \n",
       "2                        4.68                   4.77                4.71   \n",
       "3                        4.72                   4.60                4.74   \n",
       "4                        5.00                   4.86                4.29   \n",
       "\n",
       "     license instant_bookable calculated_host_listings_count  \\\n",
       "0  22-311727                f                              1   \n",
       "1        NaN                f                              1   \n",
       "2  21-156500                t                              1   \n",
       "3  19-162091                f                              4   \n",
       "4  19-162421                f                              1   \n",
       "\n",
       "  calculated_host_listings_count_entire_homes  \\\n",
       "0                                           1   \n",
       "1                                           1   \n",
       "2                                           1   \n",
       "3                                           4   \n",
       "4                                           1   \n",
       "\n",
       "  calculated_host_listings_count_private_rooms  \\\n",
       "0                                            0   \n",
       "1                                            0   \n",
       "2                                            0   \n",
       "3                                            0   \n",
       "4                                            0   \n",
       "\n",
       "  calculated_host_listings_count_shared_rooms reviews_per_month  \n",
       "0                                           0              2.86  \n",
       "1                                           0              0.67  \n",
       "2                                           0              0.22  \n",
       "3                                           0              1.66  \n",
       "4                                           0              0.12  \n",
       "\n",
       "[5 rows x 75 columns]"
      ]
     },
     "execution_count": 178,
     "metadata": {},
     "output_type": "execute_result"
    }
   ],
   "source": [
    "#Visualize Data\n",
    "df.head()"
   ]
  },
  {
   "cell_type": "code",
   "execution_count": 179,
   "metadata": {},
   "outputs": [
    {
     "data": {
      "text/plain": [
       "(5975, 75)"
      ]
     },
     "execution_count": 179,
     "metadata": {},
     "output_type": "execute_result"
    }
   ],
   "source": [
    "# Data Size\n",
    "df.shape"
   ]
  },
  {
   "cell_type": "code",
   "execution_count": 180,
   "metadata": {},
   "outputs": [
    {
     "name": "stdout",
     "output_type": "stream",
     "text": [
      "<class 'pandas.core.frame.DataFrame'>\n",
      "RangeIndex: 5975 entries, 0 to 5974\n",
      "Data columns (total 75 columns):\n",
      " #   Column                                        Non-Null Count  Dtype  \n",
      "---  ------                                        --------------  -----  \n",
      " 0   id                                            5975 non-null   int64  \n",
      " 1   listing_url                                   5975 non-null   object \n",
      " 2   scrape_id                                     5975 non-null   int64  \n",
      " 3   last_scraped                                  5975 non-null   object \n",
      " 4   source                                        5975 non-null   object \n",
      " 5   name                                          5975 non-null   object \n",
      " 6   description                                   5950 non-null   object \n",
      " 7   neighborhood_overview                         3996 non-null   object \n",
      " 8   picture_url                                   5975 non-null   object \n",
      " 9   host_id                                       5975 non-null   int64  \n",
      " 10  host_url                                      5975 non-null   object \n",
      " 11  host_name                                     5975 non-null   object \n",
      " 12  host_since                                    5975 non-null   object \n",
      " 13  host_location                                 4765 non-null   object \n",
      " 14  host_about                                    3310 non-null   object \n",
      " 15  host_response_time                            4868 non-null   object \n",
      " 16  host_response_rate                            4868 non-null   object \n",
      " 17  host_acceptance_rate                          5110 non-null   object \n",
      " 18  host_is_superhost                             5975 non-null   object \n",
      " 19  host_thumbnail_url                            5975 non-null   object \n",
      " 20  host_picture_url                              5975 non-null   object \n",
      " 21  host_neighbourhood                            5650 non-null   object \n",
      " 22  host_listings_count                           5975 non-null   int64  \n",
      " 23  host_total_listings_count                     5975 non-null   int64  \n",
      " 24  host_verifications                            5975 non-null   object \n",
      " 25  host_has_profile_pic                          5975 non-null   object \n",
      " 26  host_identity_verified                        5975 non-null   object \n",
      " 27  neighbourhood                                 3996 non-null   object \n",
      " 28  neighbourhood_cleansed                        5975 non-null   object \n",
      " 29  neighbourhood_group_cleansed                  0 non-null      float64\n",
      " 30  latitude                                      5975 non-null   float64\n",
      " 31  longitude                                     5975 non-null   float64\n",
      " 32  property_type                                 5975 non-null   object \n",
      " 33  room_type                                     5975 non-null   object \n",
      " 34  accommodates                                  5975 non-null   int64  \n",
      " 35  bathrooms                                     0 non-null      float64\n",
      " 36  bathrooms_text                                5973 non-null   object \n",
      " 37  bedrooms                                      5640 non-null   float64\n",
      " 38  beds                                          5927 non-null   float64\n",
      " 39  amenities                                     5975 non-null   object \n",
      " 40  price                                         5975 non-null   object \n",
      " 41  minimum_nights                                5975 non-null   int64  \n",
      " 42  maximum_nights                                5975 non-null   int64  \n",
      " 43  minimum_minimum_nights                        5975 non-null   int64  \n",
      " 44  maximum_minimum_nights                        5975 non-null   int64  \n",
      " 45  minimum_maximum_nights                        5975 non-null   int64  \n",
      " 46  maximum_maximum_nights                        5975 non-null   int64  \n",
      " 47  minimum_nights_avg_ntm                        5975 non-null   float64\n",
      " 48  maximum_nights_avg_ntm                        5975 non-null   float64\n",
      " 49  calendar_updated                              0 non-null      float64\n",
      " 50  has_availability                              5975 non-null   object \n",
      " 51  availability_30                               5975 non-null   int64  \n",
      " 52  availability_60                               5975 non-null   int64  \n",
      " 53  availability_90                               5975 non-null   int64  \n",
      " 54  availability_365                              5975 non-null   int64  \n",
      " 55  calendar_last_scraped                         5975 non-null   object \n",
      " 56  number_of_reviews                             5975 non-null   int64  \n",
      " 57  number_of_reviews_ltm                         5975 non-null   int64  \n",
      " 58  number_of_reviews_l30d                        5975 non-null   int64  \n",
      " 59  first_review                                  4940 non-null   object \n",
      " 60  last_review                                   4940 non-null   object \n",
      " 61  review_scores_rating                          4940 non-null   float64\n",
      " 62  review_scores_accuracy                        4927 non-null   float64\n",
      " 63  review_scores_cleanliness                     4927 non-null   float64\n",
      " 64  review_scores_checkin                         4926 non-null   float64\n",
      " 65  review_scores_communication                   4927 non-null   float64\n",
      " 66  review_scores_location                        4926 non-null   float64\n",
      " 67  review_scores_value                           4926 non-null   float64\n",
      " 68  license                                       4251 non-null   object \n",
      " 69  instant_bookable                              5975 non-null   object \n",
      " 70  calculated_host_listings_count                5975 non-null   int64  \n",
      " 71  calculated_host_listings_count_entire_homes   5975 non-null   int64  \n",
      " 72  calculated_host_listings_count_private_rooms  5975 non-null   int64  \n",
      " 73  calculated_host_listings_count_shared_rooms   5975 non-null   int64  \n",
      " 74  reviews_per_month                             4940 non-null   float64\n",
      "dtypes: float64(17), int64(23), object(35)\n",
      "memory usage: 3.4+ MB\n"
     ]
    }
   ],
   "source": [
    "# getting informations on the columns\n",
    "df.info()"
   ]
  },
  {
   "cell_type": "code",
   "execution_count": 181,
   "metadata": {},
   "outputs": [
    {
     "name": "stdout",
     "output_type": "stream",
     "text": [
      "duplicated rows:  0\n"
     ]
    }
   ],
   "source": [
    "# checking that we don't have duplicated rows in the dataset:\n",
    "print(\"duplicated rows: \", df.duplicated().sum())"
   ]
  },
  {
   "attachments": {},
   "cell_type": "markdown",
   "metadata": {},
   "source": [
    "# <a id='toc3_'></a>[2. Missing Data](#toc0_)\n",
    "\n",
    "This section will take care of missing data\n"
   ]
  },
  {
   "attachments": {},
   "cell_type": "markdown",
   "metadata": {},
   "source": [
    "The following chart, will display the columns with missing values"
   ]
  },
  {
   "attachments": {},
   "cell_type": "markdown",
   "metadata": {},
   "source": [
    "## <a id='toc3_1_'></a>[2.1 Inventory](#toc0_)\n",
    "\n",
    "In this section we will have an overview of the missing columns and we will select reliable and valuable columns for our investigation\n"
   ]
  },
  {
   "cell_type": "code",
   "execution_count": 182,
   "metadata": {},
   "outputs": [
    {
     "data": {
      "image/png": "[encoded data removed]",
      "text/plain": [
       "<Figure size 1000x600 with 1 Axes>"
      ]
     },
     "metadata": {},
     "output_type": "display_data"
    }
   ],
   "source": [
    "null_counts = df.isnull().sum()\n",
    "null_counts=null_counts[null_counts > 0].sort_values(ascending=True)    \n",
    "\n",
    "## Plotting null value \n",
    "plt.figure(figsize=(10, 6))\n",
    "null_counts.plot(kind='barh')\n",
    "plt.title('Null Value Counts by Column')\n",
    "plt.xlabel('Null Value Counts')\n",
    "plt.ylabel('Columns')\n",
    "plt.show()     "
   ]
  },
  {
   "attachments": {},
   "cell_type": "markdown",
   "metadata": {},
   "source": [
    "Our aim is to predict the price of the Airbnb. We will drop some columns, by line this is the reason:\n",
    "-  no business meaning\n",
    "-  columns with a large majority of null values                    \n",
    "- no metadata: (although review_scores_rating does have a metadata, I kept it and I interprate it as the score of the reviews given by customers)\n",
    " - redundant information"
   ]
  },
  {
   "cell_type": "code",
   "execution_count": 183,
   "metadata": {},
   "outputs": [
    {
     "data": {
      "text/plain": [
       "(5975, 40)"
      ]
     },
     "execution_count": 183,
     "metadata": {},
     "output_type": "execute_result"
    }
   ],
   "source": [
    "columns_to_drop = [ 'host_location', 'host_name', 'host_neighbourhood', 'host_picture_url', 'host_thumbnail_url', 'host_url', 'calculated_host_listings_count', 'calculated_host_listings_count_entire_homes','calculated_host_listings_count_private_rooms', 'calculated_host_listings_count_shared_rooms', 'calendar_last_scraped','last_scraped', 'license', 'listing_url',  'picture_url', 'scrape_id', 'source', \\\n",
    "                    'bathrooms', 'calendar_updated', 'neighbourhood_group_cleansed', \\\n",
    "                    'review_scores_accuracy', 'review_scores_checkin', 'review_scores_cleanliness', 'review_scores_communication', 'review_scores_location', 'review_scores_value', 'has_availability', \\\n",
    "                    'neighbourhood','maximum_maximum_nights', 'maximum_minimum_nights',  'maximum_nights_avg_ntm',  'minimum_maximum_nights', 'minimum_minimum_nights',  'minimum_nights_avg_ntm',  'number_of_reviews_l30d']\n",
    "\n",
    "df_subset = df.drop(columns=columns_to_drop, axis=1)\n",
    "\n",
    "# Data Size\n",
    "df_subset.shape"
   ]
  },
  {
   "attachments": {},
   "cell_type": "markdown",
   "metadata": {},
   "source": [
    "## <a id='toc3_2_'></a>[2.2 Dealing with missing data](#toc0_)\n",
    "\n",
    "In this section we will address the missing data"
   ]
  },
  {
   "attachments": {},
   "cell_type": "markdown",
   "metadata": {},
   "source": [
    "### <a id='toc3_2_1_'></a>[2.2.1. Creating binary columns ](#toc0_)\n",
    "\n",
    "In this section we will replace the column with missing data with 1-0 if the info exists or not"
   ]
  },
  {
   "cell_type": "code",
   "execution_count": 184,
   "metadata": {},
   "outputs": [],
   "source": [
    "# 'Does column X have a description y/n?' for several columns:\n",
    "columns_to_replace = ['name','description','host_about', 'neighborhood_overview']\n",
    "\n",
    "for column in columns_to_replace:\n",
    "    is_info_completed(column)"
   ]
  },
  {
   "attachments": {},
   "cell_type": "markdown",
   "metadata": {},
   "source": [
    "### <a id='toc3_2_2_'></a>[2.2.2. Missing first and last review ](#toc0_)\n",
    "\n",
    "If there is no first and last review, then replace nan with fake date (1900/01/01)"
   ]
  },
  {
   "cell_type": "code",
   "execution_count": 185,
   "metadata": {},
   "outputs": [],
   "source": [
    "df_subset.loc[(df_subset['first_review'].isnull()) & (df_subset['last_review'].isnull()),\\\n",
    "              ['first_review', 'last_review']] = '1900-01-01'"
   ]
  },
  {
   "attachments": {},
   "cell_type": "markdown",
   "metadata": {},
   "source": [
    "### <a id='toc3_2_3_'></a>[2.2.3. Missing reviews_per_month ](#toc0_)\n",
    "\n",
    "If there is no first review and reviews_per_month is null then replace reviews_per_month by 0"
   ]
  },
  {
   "cell_type": "code",
   "execution_count": 186,
   "metadata": {},
   "outputs": [
    {
     "data": {
      "text/plain": [
       "0"
      ]
     },
     "execution_count": 186,
     "metadata": {},
     "output_type": "execute_result"
    }
   ],
   "source": [
    "# Keeping the 2nd condition (here below), allows for a second validation our logic (first validation is to confirm what has been changed)\n",
    "df_subset.loc[(df_subset.first_review=='1900-01-01') & (df_subset.reviews_per_month.isnull()),\\\n",
    "              ['reviews_per_month']]=0\n",
    "\n",
    "#Validating that: there isn't a case where we have a reviews_per_month >0 with a fake first_review date (expected result = 0)\n",
    "df_subset.loc[(df_subset['first_review'] == '1900-01-01') &  (df_subset['reviews_per_month'] > 0)].nunique().sum()"
   ]
  },
  {
   "attachments": {},
   "cell_type": "markdown",
   "metadata": {},
   "source": [
    "### <a id='toc3_2_4_'></a>[2.2.4. Missing review_scores_rating ](#toc0_)\n",
    "\n",
    "If there is no first review and review_scores_rating is null then replace review_scores_rating by 'no review'"
   ]
  },
  {
   "cell_type": "code",
   "execution_count": 187,
   "metadata": {},
   "outputs": [],
   "source": [
    "df_subset.loc[(df_subset.first_review=='1000-01-01') & (df_subset.review_scores_rating.isnull()),\\\n",
    "              ['review_scores_rating']]='No review'"
   ]
  },
  {
   "attachments": {},
   "cell_type": "markdown",
   "metadata": {},
   "source": [
    "### <a id='toc3_2_5_'></a>[2.2.5. Missing host_acceptance_rate ](#toc0_)\n",
    "\n",
    "/!\\ Assumption: a host is considered as having never accepted a guest, when availability_365 = 365 and property has no review"
   ]
  },
  {
   "cell_type": "code",
   "execution_count": 188,
   "metadata": {},
   "outputs": [],
   "source": [
    "df_subset.loc[(df_subset['host_acceptance_rate'].isnull()) & (df_subset['availability_365']==365) & (df_subset['number_of_reviews']==0),\\\n",
    "              ['host_acceptance_rate']]=0"
   ]
  },
  {
   "attachments": {},
   "cell_type": "markdown",
   "metadata": {},
   "source": [
    "### <a id='toc3_2_6_'></a>[2.2.6. Missing Bedrooms  ](#toc0_)\n",
    "\n",
    "Finding bedrooms quantity from different columns?"
   ]
  },
  {
   "attachments": {},
   "cell_type": "markdown",
   "metadata": {},
   "source": [
    "#### <a id='toc3_2_6_1_'></a>[2.2.6.1. Are they studios ?  ](#toc0_)\n",
    "\n",
    "Use of the columns 'name' and 'description' to gather information the type of property - Does it mention studio/ bachelor / NoBedroom ?"
   ]
  },
  {
   "cell_type": "code",
   "execution_count": 189,
   "metadata": {},
   "outputs": [],
   "source": [
    "# Define the regex pattern\n",
    "pattern = r'(?i)\\b(?:[sS]tudio|[bB]achelor|[nN]o\\s*[bB]edroom)\\b'\n",
    "\n",
    "# Spotting rows having our pattern in two different columns\n",
    "df_studio1 = df[df['bedrooms'].isnull() & df['name'].str.contains(pattern, case=False, regex=True)]\n",
    "df_studio2 = df[df['bedrooms'].isnull() & df['description'].str.contains(pattern, case=False, regex=True)]\n",
    "\n",
    "# Merging the two df and dropping duplicates\n",
    "df_studio = pd.concat([df_studio1[['id']], df_studio2[['id']]]).drop_duplicates()\n",
    "\n",
    "# Create a boolean mask to identify matching 'id' values between df_subset and df_studio\n",
    "matching_ids = df_subset['id'].isin(df_studio['id'])\n",
    "\n",
    "# Replace 'bedroom' values with 0 where 'id' matches and bedroom is null\n",
    "df_subset.loc[(matching_ids) & (df_subset.bedrooms.isnull()), 'bedrooms'] = 0"
   ]
  },
  {
   "attachments": {},
   "cell_type": "markdown",
   "metadata": {},
   "source": [
    "#### <a id='toc3_2_6_2_'></a>[2.2.6.2. Capturing when digit + key words  ](#toc0_)\n",
    "\n",
    "Use of the columns 'name' and 'description' to gather information the type of property - Does it say # + bedroom(s)/ bd(s) / bdr(s)?"
   ]
  },
  {
   "cell_type": "code",
   "execution_count": 190,
   "metadata": {},
   "outputs": [
    {
     "name": "stderr",
     "output_type": "stream",
     "text": [
      "C:\\Users\\Nima\\AppData\\Local\\Temp\\ipykernel_9416\\3026306924.py:9: SettingWithCopyWarning: \n",
      "A value is trying to be set on a copy of a slice from a DataFrame.\n",
      "Try using .loc[row_indexer,col_indexer] = value instead\n",
      "\n",
      "See the caveats in the documentation: https://pandas.pydata.org/pandas-docs/stable/user_guide/indexing.html#returning-a-view-versus-a-copy\n",
      "  df_studio1['bedroom_count'] = df_studio1['name'].str.extract(r'(?i)\\b(\\d+)\\s*(?:bdrs?|[bB]edrooms?|bds?)\\b')\n",
      "C:\\Users\\Nima\\AppData\\Local\\Temp\\ipykernel_9416\\3026306924.py:10: SettingWithCopyWarning: \n",
      "A value is trying to be set on a copy of a slice from a DataFrame.\n",
      "Try using .loc[row_indexer,col_indexer] = value instead\n",
      "\n",
      "See the caveats in the documentation: https://pandas.pydata.org/pandas-docs/stable/user_guide/indexing.html#returning-a-view-versus-a-copy\n",
      "  df_studio2['bedroom_count'] = df_studio2['description'].str.extract(r'(?i)\\b(\\d+)\\s*(?:bdrs?|[bB]edrooms?|bds?)\\b')\n"
     ]
    }
   ],
   "source": [
    "# Define pattern\n",
    "pattern = r'(?i)\\b\\d+\\s*(?:bdrs?|[bB]edrooms?)\\b'\n",
    "\n",
    "# Spotting rows having our pattern in two different columns\n",
    "df_studio1 = df[(df['bedrooms'].isnull()) & df['name'].str.contains(pattern, case=False, regex=True)]\n",
    "df_studio2 = df[(df.bedrooms.isnull()) & df['description'].str.contains(pattern, case=False, regex=True)]\n",
    "\n",
    "# Create a new column 'bedroom_count' and extract the numeric value from several columns\n",
    "df_studio1['bedroom_count'] = df_studio1['name'].str.extract(r'(?i)\\b(\\d+)\\s*(?:bdrs?|[bB]edrooms?|bds?)\\b')\n",
    "df_studio2['bedroom_count'] = df_studio2['description'].str.extract(r'(?i)\\b(\\d+)\\s*(?:bdrs?|[bB]edrooms?|bds?)\\b')\n",
    "\n",
    "# Merging the two df with matching patterns\n",
    "df_studio = pd.concat([df_studio1[['id','bedroom_count']], df_studio2[['id','bedroom_count']]]).drop_duplicates()\n",
    "\n",
    "# Convert the 'bedroom_count' column to integer type\n",
    "df_studio['bedroom_count'] = df_studio['bedroom_count'].astype(int)\n",
    "\n",
    "#In case there are different value in the different columns\n",
    "df_studio = df_studio.groupby('id')['bedroom_count'].agg(max_bedroom_count='max').reset_index()\n",
    "\n",
    "# Create a boolean mask to identify matching 'id' values between df_subset and df_studio\n",
    "matching_ids = df_subset['id'].isin(df_studio['id'])\n",
    "\n",
    "# Replace 'bedroom' values with n where 'id' matches and bedroom is null\n",
    "df_subset.loc[matching_ids & df_subset['bedrooms'].isnull(), 'bedrooms'] = df_subset.loc[matching_ids & df_subset['bedrooms'].isnull(), 'id'].map(df_studio.set_index('id')['max_bedroom_count'])"
   ]
  },
  {
   "attachments": {},
   "cell_type": "markdown",
   "metadata": {},
   "source": [
    "#### <a id='toc3_2_6_3_'></a>[2.2.6.3. Capturing when letters + key words ?  ](#toc0_)\n",
    "\n",
    "Use of the columns 'name' and 'description' to gather information the type of property - Does it mention # in LETTER + key words ? "
   ]
  },
  {
   "cell_type": "code",
   "execution_count": 191,
   "metadata": {},
   "outputs": [
    {
     "name": "stderr",
     "output_type": "stream",
     "text": [
      "C:\\Users\\Nima\\AppData\\Local\\Temp\\ipykernel_9416\\2246438486.py:9: SettingWithCopyWarning: \n",
      "A value is trying to be set on a copy of a slice from a DataFrame.\n",
      "Try using .loc[row_indexer,col_indexer] = value instead\n",
      "\n",
      "See the caveats in the documentation: https://pandas.pydata.org/pandas-docs/stable/user_guide/indexing.html#returning-a-view-versus-a-copy\n",
      "  df_studio1['bedroom_count'] = df_studio1['name'].str.extract(r'\\b(one|two|three|four|five|six|seven|eight|nine|ten)\\b', flags=re.IGNORECASE)\n",
      "C:\\Users\\Nima\\AppData\\Local\\Temp\\ipykernel_9416\\2246438486.py:10: SettingWithCopyWarning: \n",
      "A value is trying to be set on a copy of a slice from a DataFrame.\n",
      "Try using .loc[row_indexer,col_indexer] = value instead\n",
      "\n",
      "See the caveats in the documentation: https://pandas.pydata.org/pandas-docs/stable/user_guide/indexing.html#returning-a-view-versus-a-copy\n",
      "  df_studio2['bedroom_count'] = df_studio2['description'].str.extract(r'\\b(one|two|three|four|five|six|seven|eight|nine|ten)\\b', flags=re.IGNORECASE)\n"
     ]
    }
   ],
   "source": [
    "# Define pattern\n",
    "pattern = r'\\b(?:one|two|three|four|five|six|seven|eight|nine|ten)\\s*(?:bdrs?|[bB]edrooms?)\\b'\n",
    "\n",
    "# Spotting rows having our pattern in two different columns\n",
    "df_studio1 = df[(df['bedrooms'].isnull()) & df['name'].str.contains(pattern, case=False, regex=True)]\n",
    "df_studio2 = df[(df.bedrooms.isnull()) & df['description'].str.contains(pattern, case=False, regex=True)]\n",
    "\n",
    "# Create a new column 'bedroom_count' and extract the numeric value from several columns\n",
    "df_studio1['bedroom_count'] = df_studio1['name'].str.extract(r'\\b(one|two|three|four|five|six|seven|eight|nine|ten)\\b', flags=re.IGNORECASE)\n",
    "df_studio2['bedroom_count'] = df_studio2['description'].str.extract(r'\\b(one|two|three|four|five|six|seven|eight|nine|ten)\\b', flags=re.IGNORECASE)\n",
    "\n",
    "# Merging the two df with matching patterns\n",
    "df_studio = pd.concat([df_studio1[['id','bedroom_count']], df_studio2[['id','bedroom_count']]]).drop_duplicates()\n",
    "\n",
    "#Transforming characters to int\n",
    "number_mapping = {\n",
    "    'one': 1,\n",
    "    'two': 2,\n",
    "    'three': 3,\n",
    "    'four': 4,\n",
    "    'five': 5,\n",
    "    'six': 6,\n",
    "    'seven': 7,\n",
    "    'eight': 8,\n",
    "    'nine': 9,\n",
    "    'ten': 10\n",
    "}\n",
    "\n",
    "#Applying the transformation\n",
    "df_studio['bedroom_count'] = df_studio['bedroom_count'].str.lower().map(number_mapping)\n",
    "\n",
    "#In case there are different value in the different columns\n",
    "df_studio = df_studio.groupby('id')['bedroom_count'].agg(max_bedroom_count='max').reset_index()\n",
    "\n",
    "# Create a boolean mask to identify matching 'id' values between df_subset and df_studio\n",
    "matching_ids = df_subset['id'].isin(df_studio['id'])\n",
    "\n",
    "# Replace 'bedroom' values with n where 'id' matches and bedroom is null\n",
    "df_subset.loc[matching_ids & df_subset['bedrooms'].isnull(), 'bedrooms'] = df_subset.loc[matching_ids & df_subset['bedrooms'].isnull(), 'id'].map(df_studio.set_index('id')['max_bedroom_count'])"
   ]
  },
  {
   "attachments": {},
   "cell_type": "markdown",
   "metadata": {},
   "source": [
    "#### <a id='toc3_2_6_4_'></a>[2.2.6.4. Bedrooms and beds when private room  ](#toc0_)\n",
    "\n",
    "Set 'bedrooms' and beds to 1 when private room \n",
    "/!\\ Assumption no 2 private rooms can be rented within the same listing"
   ]
  },
  {
   "cell_type": "code",
   "execution_count": 192,
   "metadata": {},
   "outputs": [],
   "source": [
    "df_subset['bedrooms'] = np.where((df_subset['bedrooms'].isnull()) & (df_subset['room_type'] == 'Private room'), 1, df_subset['bedrooms'])\n",
    "df_subset['beds'] = np.where(df_subset['room_type'] == 'Private room', 1, df['beds'])"
   ]
  },
  {
   "attachments": {},
   "cell_type": "markdown",
   "metadata": {},
   "source": [
    "#### <a id='toc3_2_6_5_'></a>[2.2.6.5. Bedrooms and Camper/ RV  ](#toc0_)\n",
    "/!\\ Assumption Camper/RV has no room"
   ]
  },
  {
   "cell_type": "code",
   "execution_count": 193,
   "metadata": {},
   "outputs": [],
   "source": [
    "df_subset['bedrooms'] = np.where((df_subset['property_type'] == 'Camper/RV'), 0, df_subset['bedrooms'])"
   ]
  },
  {
   "attachments": {},
   "cell_type": "markdown",
   "metadata": {},
   "source": [
    "#### <a id='toc3_2_6_6_'></a>[2.2.6.6.  Bedrooms in Entire appartment with One Bed  ](#toc0_)\n",
    "/!\\ Assumption there is only one bedroom if there is one bed  "
   ]
  },
  {
   "cell_type": "code",
   "execution_count": 194,
   "metadata": {},
   "outputs": [],
   "source": [
    "df_subset['bedrooms'] = np.where((df_subset['beds'] == 1) & (df_subset['room_type'].str.contains('Entire') & df_subset['bedrooms'].isnull() ), 1, df_subset['bedrooms'])"
   ]
  },
  {
   "attachments": {},
   "cell_type": "markdown",
   "metadata": {},
   "source": [
    "### <a id='toc3_2_7_'></a>[2.2.7 Transforming dataset  ](#toc0_)"
   ]
  },
  {
   "cell_type": "code",
   "execution_count": 200,
   "metadata": {},
   "outputs": [],
   "source": [
    "## 1) object to date\n",
    "df_subset['first_review'] = pd.to_datetime(df_subset['first_review'])\n",
    "df_subset['last_review'] = pd.to_datetime(df_subset['last_review'])\n",
    "df_subset['host_since'] =  pd.to_datetime(df_subset['host_since'])\n",
    "\n",
    "## 2) Extracting bathrooms value\n",
    "df_subset['bathrooms'] = df_subset['bathrooms_text'].str.extract(r'(\\d+(\\.\\d+)?)')[0]\n",
    "df_subset['bathrooms']=df_subset['bathrooms'].astype(float)\n",
    "\n",
    "## 3) 'Half-bath' to numeric\n",
    "df_subset.loc[df_subset['bathrooms_text'] == 'Shared half-bath', 'bathrooms'] = 0.5\n",
    "df_subset.loc[df_subset['bathrooms_text'] == 'Private half-bath', 'bathrooms'] = 0.5"
   ]
  },
  {
   "attachments": {},
   "cell_type": "markdown",
   "metadata": {},
   "source": [
    "### <a id='toc3_2_8_'></a>[2.2.8 Filling empty cells with the mean value by category  ](#toc0_)"
   ]
  },
  {
   "cell_type": "code",
   "execution_count": 201,
   "metadata": {},
   "outputs": [],
   "source": [
    "proxy_mean('bedrooms','property_type')            \n",
    "proxy_mean('beds','property_type')\n",
    "proxy_mean('bathrooms','bedrooms',1)"
   ]
  },
  {
   "attachments": {},
   "cell_type": "markdown",
   "metadata": {},
   "source": [
    "### <a id='toc3_2_9_'></a>[2.2.9 Missing bathrooms_text  ](#toc0_)\n",
    "Replacing missing bathrooms_text with bathrooms type"
   ]
  },
  {
   "cell_type": "code",
   "execution_count": 202,
   "metadata": {},
   "outputs": [],
   "source": [
    "## Creating bathroom_type from bathrooms_text info and completing it\n",
    "df_subset['bathroom_type'] = df_subset['bathrooms_text'].str.extract(r'\\d+\\s+(.+)')\n",
    "df_subset['bathroom_type'] = df_subset['bathroom_type'].apply(lambda x: 'private' if 'private' in str(x).lower() else\n",
    "                                                          'shared' if 'shared' in str(x).lower() else\n",
    "                                                          'shared')\n",
    "# Adusting for private location (from the 'else' statement it was assigned to shared in the previous code)\n",
    "df_subset.loc[df['room_type'] == 'Entire home/apt','bathroom_type'] = 'private'\n",
    "# /!\\ Assumption if there are at least the same amount of bathrooms and bedrooms, the host will privatize one bathroom\n",
    "df_subset.loc[df['bathrooms'] >= df_subset['bedrooms'], 'bathroom_type'] = 'private'\n",
    "\n",
    "#dropping bathrooms_text\n",
    "df_subset=df_subset.drop('bathrooms_text',axis=1)\n"
   ]
  },
  {
   "attachments": {},
   "cell_type": "markdown",
   "metadata": {},
   "source": [
    "### <a id='toc3_2_10_'></a>[2.2.10  Missing host_response_time  ](#toc0_)"
   ]
  },
  {
   "cell_type": "code",
   "execution_count": 203,
   "metadata": {},
   "outputs": [
    {
     "name": "stdout",
     "output_type": "stream",
     "text": [
      "Replacing host_response_time with unknown when null\n"
     ]
    }
   ],
   "source": [
    "host_na = df[df.host_response_rate.isnull()]['host_id'].drop_duplicates()\n",
    "host_isonly_na = df[df.host_id.isin(host_na)]['host_id'].drop_duplicates()\n",
    "\n",
    "# If there isn't the same host_id with different values then\n",
    "if host_na.nunique() == host_isonly_na.nunique():\n",
    "    # Replacing host_response_time with 'unknown' when null\n",
    "    df_subset.loc[df_subset['host_response_time'].isnull(), 'host_response_time'] = 'unknown'\n",
    "    print('Replacing host_response_time with unknown when null')\n",
    "else:\n",
    "    print('There is at least one host with several distinct values regarding his host_response_time')"
   ]
  },
  {
   "attachments": {},
   "cell_type": "markdown",
   "metadata": {},
   "source": [
    "### <a id='toc3_2_11_'></a>[2.2.11. Missing host_response_rate and host_acceptance_rate  ](#toc0_)\n",
    "/!\\ Assumption: when the property is available all year and the host response rate and host acceptance rate are nan, the host isn't proactively trying to rent his/ her property --> to 0"
   ]
  },
  {
   "cell_type": "code",
   "execution_count": 204,
   "metadata": {},
   "outputs": [],
   "source": [
    "df_subset.loc[(df_subset.availability_365==365) & (df_subset.host_response_rate.isnull()) , 'host_response_rate'] = 0\n",
    "df_subset.loc[(df_subset.availability_365==365) & (df_subset.host_acceptance_rate.isnull()) , 'host_acceptance_rate'] = 0"
   ]
  },
  {
   "attachments": {},
   "cell_type": "markdown",
   "metadata": {},
   "source": [
    "## <a id='toc3_3_'></a>[2.3 New Inventory ](#toc0_)"
   ]
  },
  {
   "cell_type": "code",
   "execution_count": 205,
   "metadata": {},
   "outputs": [
    {
     "name": "stdout",
     "output_type": "stream",
     "text": [
      "host_acceptance_rate     819\n",
      "review_scores_rating    1035\n",
      "host_response_rate      1055\n",
      "dtype: int64\n"
     ]
    }
   ],
   "source": [
    "### Missing value: check \n",
    "null_counts = df_subset.isnull().sum()\n",
    "print(null_counts[null_counts > 0].sort_values(ascending=True))   "
   ]
  },
  {
   "attachments": {},
   "cell_type": "markdown",
   "metadata": {},
   "source": [
    "I will do the EDA with as is. However I will replace with the missing value, with the mean for the modeling"
   ]
  },
  {
   "attachments": {},
   "cell_type": "markdown",
   "metadata": {},
   "source": [
    "\n",
    "# <a id='toc4_'></a>[3. Transformation](#toc0_)\n",
    "\n",
    "In this section, we will perform some statistical analysis on the data.\n"
   ]
  },
  {
   "cell_type": "code",
   "execution_count": 206,
   "metadata": {},
   "outputs": [
    {
     "name": "stdout",
     "output_type": "stream",
     "text": [
      "<class 'pandas.core.frame.DataFrame'>\n",
      "RangeIndex: 5975 entries, 0 to 5974\n",
      "Data columns (total 41 columns):\n",
      " #   Column                     Non-Null Count  Dtype         \n",
      "---  ------                     --------------  -----         \n",
      " 0   id                         5975 non-null   int64         \n",
      " 1   name                       5975 non-null   int32         \n",
      " 2   description                5975 non-null   int32         \n",
      " 3   neighborhood_overview      5975 non-null   int32         \n",
      " 4   host_id                    5975 non-null   int64         \n",
      " 5   host_since                 5975 non-null   datetime64[ns]\n",
      " 6   host_about                 5975 non-null   int32         \n",
      " 7   host_response_time         5975 non-null   object        \n",
      " 8   host_response_rate         4920 non-null   object        \n",
      " 9   host_acceptance_rate       5156 non-null   object        \n",
      " 10  host_is_superhost          5975 non-null   object        \n",
      " 11  host_listings_count        5975 non-null   int64         \n",
      " 12  host_total_listings_count  5975 non-null   int64         \n",
      " 13  host_verifications         5975 non-null   object        \n",
      " 14  host_has_profile_pic       5975 non-null   object        \n",
      " 15  host_identity_verified     5975 non-null   object        \n",
      " 16  neighbourhood_cleansed     5975 non-null   object        \n",
      " 17  latitude                   5975 non-null   float64       \n",
      " 18  longitude                  5975 non-null   float64       \n",
      " 19  property_type              5975 non-null   object        \n",
      " 20  room_type                  5975 non-null   object        \n",
      " 21  accommodates               5975 non-null   int64         \n",
      " 22  bedrooms                   5975 non-null   float64       \n",
      " 23  beds                       5975 non-null   float64       \n",
      " 24  amenities                  5975 non-null   object        \n",
      " 25  price                      5975 non-null   object        \n",
      " 26  minimum_nights             5975 non-null   int64         \n",
      " 27  maximum_nights             5975 non-null   int64         \n",
      " 28  availability_30            5975 non-null   int64         \n",
      " 29  availability_60            5975 non-null   int64         \n",
      " 30  availability_90            5975 non-null   int64         \n",
      " 31  availability_365           5975 non-null   int64         \n",
      " 32  number_of_reviews          5975 non-null   int64         \n",
      " 33  number_of_reviews_ltm      5975 non-null   int64         \n",
      " 34  first_review               5975 non-null   datetime64[ns]\n",
      " 35  last_review                5975 non-null   datetime64[ns]\n",
      " 36  review_scores_rating       4940 non-null   object        \n",
      " 37  instant_bookable           5975 non-null   object        \n",
      " 38  reviews_per_month          5975 non-null   float64       \n",
      " 39  bathrooms                  5975 non-null   float64       \n",
      " 40  bathroom_type              5975 non-null   object        \n",
      "dtypes: datetime64[ns](3), float64(6), int32(4), int64(13), object(15)\n",
      "memory usage: 1.8+ MB\n"
     ]
    }
   ],
   "source": [
    "df_subset.info()"
   ]
  },
  {
   "attachments": {},
   "cell_type": "markdown",
   "metadata": {},
   "source": [
    "## <a id='toc4_1_'></a>[3.1. Percentage to Float ](#toc0_)"
   ]
  },
  {
   "cell_type": "code",
   "execution_count": 207,
   "metadata": {},
   "outputs": [],
   "source": [
    "columns_to_process = ['host_response_rate', 'host_acceptance_rate']\n",
    "\n",
    "for column in columns_to_process:\n",
    "    df_subset[column] = df_subset[column].str.replace('%', '').str.strip().astype('float')"
   ]
  },
  {
   "attachments": {},
   "cell_type": "markdown",
   "metadata": {},
   "source": [
    "## <a id='toc4_2_'></a>[3.2. T/F by 1/0 ](#toc0_)"
   ]
  },
  {
   "cell_type": "code",
   "execution_count": 208,
   "metadata": {},
   "outputs": [],
   "source": [
    "columns_to_map = ['host_is_superhost', 'host_has_profile_pic', 'host_identity_verified', 'instant_bookable']\n",
    "\n",
    "for column in columns_to_map:\n",
    "    df_subset[column] = df_subset[column].map({'t': 1, 'f': 0})"
   ]
  },
  {
   "attachments": {},
   "cell_type": "markdown",
   "metadata": {},
   "source": [
    "## <a id='toc4_3_'></a>[3.3. Removing $ from 'Amount' ](#toc0_)"
   ]
  },
  {
   "cell_type": "code",
   "execution_count": 209,
   "metadata": {},
   "outputs": [
    {
     "name": "stderr",
     "output_type": "stream",
     "text": [
      "C:\\Users\\Nima\\AppData\\Local\\Temp\\ipykernel_9416\\2962534890.py:1: FutureWarning: The default value of regex will change from True to False in a future version. In addition, single character regular expressions will *not* be treated as literal strings when regex=True.\n",
      "  df_subset['price'] = df_subset['price'].str.replace('$', '').str.replace(',', '').str.strip().astype('float')\n"
     ]
    }
   ],
   "source": [
    "df_subset['price'] = df_subset['price'].str.replace('$', '').str.replace(',', '').str.strip().astype('float')"
   ]
  },
  {
   "attachments": {},
   "cell_type": "markdown",
   "metadata": {},
   "source": [
    "## <a id='toc4_4_'></a>[3.4. Feature Engineering ](#toc0_)"
   ]
  },
  {
   "attachments": {},
   "cell_type": "markdown",
   "metadata": {},
   "source": [
    "### <a id='toc4_5_'></a>[3.4.1. Amenities ](#toc0_)\n",
    "We will be encoding the columns Amenities into new columns for each values in amenity. The new columns will have 1 or 0, that represent whether or not this amenity is provided. Then delete the column 'Amenities' since it's not needed anymore."
   ]
  },
  {
   "cell_type": "code",
   "execution_count": 210,
   "metadata": {},
   "outputs": [
    {
     "name": "stderr",
     "output_type": "stream",
     "text": [
      "C:\\Users\\Nima\\AppData\\Local\\Temp\\ipykernel_9416\\1210488089.py:7: FutureWarning: The default value of regex will change from True to False in a future version. In addition, single character regular expressions will *not* be treated as literal strings when regex=True.\n",
      "  df_subset['amenities'].astype(str).str.strip('{}') \\\n"
     ]
    },
    {
     "name": "stdout",
     "output_type": "stream",
     "text": [
      "1589\n"
     ]
    },
    {
     "name": "stdout",
     "output_type": "stream",
     "text": [
      "<class 'pandas.core.frame.DataFrame'>\n",
      "RangeIndex: 5975 entries, 0 to 5974\n",
      "Data columns (total 71 columns):\n",
      " #   Column                              Non-Null Count  Dtype         \n",
      "---  ------                              --------------  -----         \n",
      " 0   id                                  5975 non-null   int64         \n",
      " 1   name                                5975 non-null   int32         \n",
      " 2   description                         5975 non-null   int32         \n",
      " 3   neighborhood_overview               5975 non-null   int32         \n",
      " 4   host_id                             5975 non-null   int64         \n",
      " 5   host_since                          5975 non-null   datetime64[ns]\n",
      " 6   host_about                          5975 non-null   int32         \n",
      " 7   host_response_time                  5975 non-null   object        \n",
      " 8   host_response_rate                  4868 non-null   float64       \n",
      " 9   host_acceptance_rate                5110 non-null   float64       \n",
      " 10  host_is_superhost                   5975 non-null   int64         \n",
      " 11  host_listings_count                 5975 non-null   int64         \n",
      " 12  host_total_listings_count           5975 non-null   int64         \n",
      " 13  host_verifications                  5975 non-null   object        \n",
      " 14  host_has_profile_pic                5975 non-null   int64         \n",
      " 15  host_identity_verified              5975 non-null   int64         \n",
      " 16  neighbourhood_cleansed              5975 non-null   object        \n",
      " 17  latitude                            5975 non-null   float64       \n",
      " 18  longitude                           5975 non-null   float64       \n",
      " 19  property_type                       5975 non-null   object        \n",
      " 20  room_type                           5975 non-null   object        \n",
      " 21  accommodates                        5975 non-null   int64         \n",
      " 22  bedrooms                            5975 non-null   float64       \n",
      " 23  beds                                5975 non-null   float64       \n",
      " 24  amenities                           5975 non-null   object        \n",
      " 25  price                               5975 non-null   float64       \n",
      " 26  minimum_nights                      5975 non-null   int64         \n",
      " 27  maximum_nights                      5975 non-null   int64         \n",
      " 28  availability_30                     5975 non-null   int64         \n",
      " 29  availability_60                     5975 non-null   int64         \n",
      " 30  availability_90                     5975 non-null   int64         \n",
      " 31  availability_365                    5975 non-null   int64         \n",
      " 32  number_of_reviews                   5975 non-null   int64         \n",
      " 33  number_of_reviews_ltm               5975 non-null   int64         \n",
      " 34  first_review                        5975 non-null   datetime64[ns]\n",
      " 35  last_review                         5975 non-null   datetime64[ns]\n",
      " 36  review_scores_rating                4940 non-null   object        \n",
      " 37  instant_bookable                    5975 non-null   int64         \n",
      " 38  reviews_per_month                   5975 non-null   float64       \n",
      " 39  bathrooms                           5975 non-null   float64       \n",
      " 40  bathroom_type                       5975 non-null   object        \n",
      " 41  amenity_smoke_alarm                 5975 non-null   int64         \n",
      " 42  amenity_kitchen                     5975 non-null   int64         \n",
      " 43  amenity_wifi                        5975 non-null   int64         \n",
      " 44  amenity_essentials                  5975 non-null   int64         \n",
      " 45  amenity_hangers                     5975 non-null   int64         \n",
      " 46  amenity_hair_dryer                  5975 non-null   int64         \n",
      " 47  amenity_hot_water                   5975 non-null   int64         \n",
      " 48  amenity_dishes_and_silverware       5975 non-null   int64         \n",
      " 49  amenity_cooking_basics              5975 non-null   int64         \n",
      " 50  amenity_refrigerator                5975 non-null   int64         \n",
      " 51  amenity_carbon_monoxide_alarm       5975 non-null   int64         \n",
      " 52  amenity_shampoo                     5975 non-null   int64         \n",
      " 53  amenity_iron                        5975 non-null   int64         \n",
      " 54  amenity_microwave                   5975 non-null   int64         \n",
      " 55  amenity_fire_extinguisher           5975 non-null   int64         \n",
      " 56  amenity_bed_linens                  5975 non-null   int64         \n",
      " 57  amenity_heating                     5975 non-null   int64         \n",
      " 58  amenity_washer                      5975 non-null   int64         \n",
      " 59  amenity_dishwasher                  5975 non-null   int64         \n",
      " 60  amenity_free_parking_on_premises    5975 non-null   int64         \n",
      " 61  amenity_long_term_stays_allowed     5975 non-null   int64         \n",
      " 62  amenity_self_check-in               5975 non-null   int64         \n",
      " 63  amenity_dedicated_workspace         5975 non-null   int64         \n",
      " 64  amenity_oven                        5975 non-null   int64         \n",
      " 65  amenity_first_aid_kit               5975 non-null   int64         \n",
      " 66  amenity_bathtub                     5975 non-null   int64         \n",
      " 67  amenity_extra_pillows_and_blankets  5975 non-null   int64         \n",
      " 68  amenity_hot_water_kettle            5975 non-null   int64         \n",
      " 69  amenity_private_entrance            5975 non-null   int64         \n",
      " 70  amenity_cleaning_products           5975 non-null   int64         \n",
      "dtypes: datetime64[ns](3), float64(9), int32(4), int64(47), object(8)\n",
      "memory usage: 3.1+ MB\n"
     ]
    }
   ],
   "source": [
    "df_subset['amenities'].head()\n",
    "\n",
    "## make a dictionary from the amenities\n",
    "amenities_counter = Counter()\n",
    "\n",
    "## delete {},\"\",/,\\, and split them by comma\n",
    "df_subset['amenities'].astype(str).str.strip('{}') \\\n",
    "                                .str.replace('\"', '') \\\n",
    "                                .replace(r'\\\\u\\d+', '', regex=True) \\\n",
    "                                .str.lstrip('\\\"') \\\n",
    "                                .str.rstrip('\\\"') \\\n",
    "                                .str.replace(r'\\d+\\\\?\\s', '', regex=True) \\\n",
    "                                .str.replace('\\\\', '') \\\n",
    "                                .str.replace(']', '') \\\n",
    "                                .str.replace('[', '') \\\n",
    "                                .str.split(',') \\\n",
    "                                .apply(amenities_counter.update)\n",
    "\n",
    "## Removing leading space and grouping similar amenities\n",
    "amenities_df = pd.DataFrame.from_dict(amenities_counter, orient='index').reset_index()\n",
    "amenities_df.columns = ['amenity', 'count']\n",
    "amenities_df['amenity'] = amenities_df['amenity'].astype(str).str.strip()\n",
    "amenities_df = amenities_df.groupby('amenity')['count'].sum()\n",
    "amenities_counter = Counter(amenities_df.to_dict())\n",
    "\n",
    "## check how many amenities we have in total\n",
    "print(len(amenities_counter))\n",
    "\n",
    "## print the most common items\n",
    "amenities_counter.most_common(10)\n",
    "\n",
    "# for the purpose of the project I'll take only the most 30 common amenities\n",
    "for item,_ in amenities_counter.most_common(30):\n",
    "    col_name = 'amenity_' + item.replace(\" \", \"_\")\n",
    "    col_name = col_name.lower()\n",
    "    df_subset[col_name] = df_subset['amenities'].astype('str').apply(lambda x: int(item in x))\n",
    "\n",
    "## Visualizing new columns\n",
    "df_subset.info()"
   ]
  },
  {
   "attachments": {},
   "cell_type": "markdown",
   "metadata": {},
   "source": [
    "### <a id='toc4_6_'></a>[3.4.2. Host Verifications ](#toc0_)\n",
    "Using the same concept as amenities"
   ]
  },
  {
   "cell_type": "code",
   "execution_count": 211,
   "metadata": {},
   "outputs": [
    {
     "name": "stdout",
     "output_type": "stream",
     "text": [
      "4\n",
      "<class 'pandas.core.frame.DataFrame'>\n",
      "RangeIndex: 5975 entries, 0 to 5974\n",
      "Data columns (total 75 columns):\n",
      " #   Column                              Non-Null Count  Dtype         \n",
      "---  ------                              --------------  -----         \n",
      " 0   id                                  5975 non-null   int64         \n",
      " 1   name                                5975 non-null   int32         \n",
      " 2   description                         5975 non-null   int32         \n",
      " 3   neighborhood_overview               5975 non-null   int32         \n",
      " 4   host_id                             5975 non-null   int64         \n",
      " 5   host_since                          5975 non-null   datetime64[ns]\n",
      " 6   host_about                          5975 non-null   int32         \n",
      " 7   host_response_time                  5975 non-null   object        \n",
      " 8   host_response_rate                  4868 non-null   float64       \n",
      " 9   host_acceptance_rate                5110 non-null   float64       \n",
      " 10  host_is_superhost                   5975 non-null   int64         \n",
      " 11  host_listings_count                 5975 non-null   int64         \n",
      " 12  host_total_listings_count           5975 non-null   int64         \n",
      " 13  host_verifications                  5975 non-null   object        \n",
      " 14  host_has_profile_pic                5975 non-null   int64         \n",
      " 15  host_identity_verified              5975 non-null   int64         \n",
      " 16  neighbourhood_cleansed              5975 non-null   object        \n",
      " 17  latitude                            5975 non-null   float64       \n",
      " 18  longitude                           5975 non-null   float64       \n",
      " 19  property_type                       5975 non-null   object        \n",
      " 20  room_type                           5975 non-null   object        \n",
      " 21  accommodates                        5975 non-null   int64         \n",
      " 22  bedrooms                            5975 non-null   float64       \n",
      " 23  beds                                5975 non-null   float64       \n",
      " 24  amenities                           5975 non-null   object        \n",
      " 25  price                               5975 non-null   float64       \n",
      " 26  minimum_nights                      5975 non-null   int64         \n",
      " 27  maximum_nights                      5975 non-null   int64         \n",
      " 28  availability_30                     5975 non-null   int64         \n",
      " 29  availability_60                     5975 non-null   int64         \n",
      " 30  availability_90                     5975 non-null   int64         \n",
      " 31  availability_365                    5975 non-null   int64         \n",
      " 32  number_of_reviews                   5975 non-null   int64         \n",
      " 33  number_of_reviews_ltm               5975 non-null   int64         \n",
      " 34  first_review                        5975 non-null   datetime64[ns]\n",
      " 35  last_review                         5975 non-null   datetime64[ns]\n",
      " 36  review_scores_rating                4940 non-null   object        \n",
      " 37  instant_bookable                    5975 non-null   int64         \n",
      " 38  reviews_per_month                   5975 non-null   float64       \n",
      " 39  bathrooms                           5975 non-null   float64       \n",
      " 40  bathroom_type                       5975 non-null   object        \n",
      " 41  amenity_smoke_alarm                 5975 non-null   int64         \n",
      " 42  amenity_kitchen                     5975 non-null   int64         \n",
      " 43  amenity_wifi                        5975 non-null   int64         \n",
      " 44  amenity_essentials                  5975 non-null   int64         \n",
      " 45  amenity_hangers                     5975 non-null   int64         \n",
      " 46  amenity_hair_dryer                  5975 non-null   int64         \n",
      " 47  amenity_hot_water                   5975 non-null   int64         \n",
      " 48  amenity_dishes_and_silverware       5975 non-null   int64         \n",
      " 49  amenity_cooking_basics              5975 non-null   int64         \n",
      " 50  amenity_refrigerator                5975 non-null   int64         \n",
      " 51  amenity_carbon_monoxide_alarm       5975 non-null   int64         \n",
      " 52  amenity_shampoo                     5975 non-null   int64         \n",
      " 53  amenity_iron                        5975 non-null   int64         \n",
      " 54  amenity_microwave                   5975 non-null   int64         \n",
      " 55  amenity_fire_extinguisher           5975 non-null   int64         \n",
      " 56  amenity_bed_linens                  5975 non-null   int64         \n",
      " 57  amenity_heating                     5975 non-null   int64         \n",
      " 58  amenity_washer                      5975 non-null   int64         \n",
      " 59  amenity_dishwasher                  5975 non-null   int64         \n",
      " 60  amenity_free_parking_on_premises    5975 non-null   int64         \n",
      " 61  amenity_long_term_stays_allowed     5975 non-null   int64         \n",
      " 62  amenity_self_check-in               5975 non-null   int64         \n",
      " 63  amenity_dedicated_workspace         5975 non-null   int64         \n",
      " 64  amenity_oven                        5975 non-null   int64         \n",
      " 65  amenity_first_aid_kit               5975 non-null   int64         \n",
      " 66  amenity_bathtub                     5975 non-null   int64         \n",
      " 67  amenity_extra_pillows_and_blankets  5975 non-null   int64         \n",
      " 68  amenity_hot_water_kettle            5975 non-null   int64         \n",
      " 69  amenity_private_entrance            5975 non-null   int64         \n",
      " 70  amenity_cleaning_products           5975 non-null   int64         \n",
      " 71  host_verification_phone             5975 non-null   int64         \n",
      " 72  host_verification_email             5975 non-null   int64         \n",
      " 73  host_verification_work_email        5975 non-null   int64         \n",
      " 74  host_verification_photographer      5975 non-null   int64         \n",
      "dtypes: datetime64[ns](3), float64(9), int32(4), int64(51), object(8)\n",
      "memory usage: 3.3+ MB\n"
     ]
    },
    {
     "name": "stderr",
     "output_type": "stream",
     "text": [
      "C:\\Users\\Nima\\AppData\\Local\\Temp\\ipykernel_9416\\2798630183.py:7: FutureWarning: The default value of regex will change from True to False in a future version. In addition, single character regular expressions will *not* be treated as literal strings when regex=True.\n",
      "  df_subset.host_verifications.astype('str').str.strip('{}')\\\n"
     ]
    }
   ],
   "source": [
    "df_subset.host_verifications.head()\n",
    "\n",
    "# make a dictionary from the host_verifications\n",
    "verifications_counter = Counter()\n",
    "\n",
    "# delete {},\"\",/,\\\n",
    "df_subset.host_verifications.astype('str').str.strip('{}')\\\n",
    "                                       .str.replace('\"', '')\\\n",
    "                                       .str.replace(\"'\", \"\") \\\n",
    "                                       .str.replace('[','')\\\n",
    "                                       .str.replace(']','')\\\n",
    "                                       .str.split(',')\\\n",
    "                                       .apply(verifications_counter.update)\n",
    "                                       \n",
    "# Removing leading space and grouping similar verification methods\n",
    "verifications_df = pd.DataFrame.from_dict(verifications_counter, orient='index').reset_index()\n",
    "verifications_df.columns = ['verification', 'count']\n",
    "verifications_df['verification'] = verifications_df['verification'].astype(str).str.strip()\n",
    "verifications_df = verifications_df.groupby('verification')['count'].sum()\n",
    "verifications_counter = Counter(verifications_df.to_dict())\n",
    "\n",
    "# check how many verification methods we have in total\n",
    "print(len(verifications_counter))\n",
    "\n",
    "# print the most common items\n",
    "verifications_counter.most_common(10)\n",
    "\n",
    "# I'll take only the most 10 common verifications\n",
    "for item,_ in verifications_counter.most_common(10):\n",
    "    col_name = 'host_verification_' + item.replace(\" \", \"_\")\n",
    "    df_subset[col_name] = df_subset.host_verifications.astype('str').apply(lambda x: int(item in x))\n",
    "\n",
    "#Clean new columns name\n",
    "df_subset.columns = df_subset.columns.str.replace('__', '_')\n",
    "\n",
    "#Display columns\n",
    "df_subset.info()\n"
   ]
  },
  {
   "attachments": {},
   "cell_type": "markdown",
   "metadata": {},
   "source": [
    "\n",
    "# <a id='toc5_'></a>[4. Save transformation](#toc0_)"
   ]
  },
  {
   "cell_type": "code",
   "execution_count": 212,
   "metadata": {},
   "outputs": [],
   "source": [
    "df_subset.to_csv('../../GitHub/Capstone/1_dpp_airbnb_vancouver.csv', index=False)"
   ]
  },
  {
   "cell_type": "code",
   "execution_count": 213,
   "metadata": {},
   "outputs": [
    {
     "name": "stdout",
     "output_type": "stream",
     "text": [
      "<class 'pandas.core.frame.DataFrame'>\n",
      "RangeIndex: 5975 entries, 0 to 5974\n",
      "Data columns (total 75 columns):\n",
      " #   Column                              Non-Null Count  Dtype         \n",
      "---  ------                              --------------  -----         \n",
      " 0   id                                  5975 non-null   int64         \n",
      " 1   name                                5975 non-null   int32         \n",
      " 2   description                         5975 non-null   int32         \n",
      " 3   neighborhood_overview               5975 non-null   int32         \n",
      " 4   host_id                             5975 non-null   int64         \n",
      " 5   host_since                          5975 non-null   datetime64[ns]\n",
      " 6   host_about                          5975 non-null   int32         \n",
      " 7   host_response_time                  5975 non-null   object        \n",
      " 8   host_response_rate                  4868 non-null   float64       \n",
      " 9   host_acceptance_rate                5110 non-null   float64       \n",
      " 10  host_is_superhost                   5975 non-null   int64         \n",
      " 11  host_listings_count                 5975 non-null   int64         \n",
      " 12  host_total_listings_count           5975 non-null   int64         \n",
      " 13  host_verifications                  5975 non-null   object        \n",
      " 14  host_has_profile_pic                5975 non-null   int64         \n",
      " 15  host_identity_verified              5975 non-null   int64         \n",
      " 16  neighbourhood_cleansed              5975 non-null   object        \n",
      " 17  latitude                            5975 non-null   float64       \n",
      " 18  longitude                           5975 non-null   float64       \n",
      " 19  property_type                       5975 non-null   object        \n",
      " 20  room_type                           5975 non-null   object        \n",
      " 21  accommodates                        5975 non-null   int64         \n",
      " 22  bedrooms                            5975 non-null   float64       \n",
      " 23  beds                                5975 non-null   float64       \n",
      " 24  amenities                           5975 non-null   object        \n",
      " 25  price                               5975 non-null   float64       \n",
      " 26  minimum_nights                      5975 non-null   int64         \n",
      " 27  maximum_nights                      5975 non-null   int64         \n",
      " 28  availability_30                     5975 non-null   int64         \n",
      " 29  availability_60                     5975 non-null   int64         \n",
      " 30  availability_90                     5975 non-null   int64         \n",
      " 31  availability_365                    5975 non-null   int64         \n",
      " 32  number_of_reviews                   5975 non-null   int64         \n",
      " 33  number_of_reviews_ltm               5975 non-null   int64         \n",
      " 34  first_review                        5975 non-null   datetime64[ns]\n",
      " 35  last_review                         5975 non-null   datetime64[ns]\n",
      " 36  review_scores_rating                4940 non-null   object        \n",
      " 37  instant_bookable                    5975 non-null   int64         \n",
      " 38  reviews_per_month                   5975 non-null   float64       \n",
      " 39  bathrooms                           5975 non-null   float64       \n",
      " 40  bathroom_type                       5975 non-null   object        \n",
      " 41  amenity_smoke_alarm                 5975 non-null   int64         \n",
      " 42  amenity_kitchen                     5975 non-null   int64         \n",
      " 43  amenity_wifi                        5975 non-null   int64         \n",
      " 44  amenity_essentials                  5975 non-null   int64         \n",
      " 45  amenity_hangers                     5975 non-null   int64         \n",
      " 46  amenity_hair_dryer                  5975 non-null   int64         \n",
      " 47  amenity_hot_water                   5975 non-null   int64         \n",
      " 48  amenity_dishes_and_silverware       5975 non-null   int64         \n",
      " 49  amenity_cooking_basics              5975 non-null   int64         \n",
      " 50  amenity_refrigerator                5975 non-null   int64         \n",
      " 51  amenity_carbon_monoxide_alarm       5975 non-null   int64         \n",
      " 52  amenity_shampoo                     5975 non-null   int64         \n",
      " 53  amenity_iron                        5975 non-null   int64         \n",
      " 54  amenity_microwave                   5975 non-null   int64         \n",
      " 55  amenity_fire_extinguisher           5975 non-null   int64         \n",
      " 56  amenity_bed_linens                  5975 non-null   int64         \n",
      " 57  amenity_heating                     5975 non-null   int64         \n",
      " 58  amenity_washer                      5975 non-null   int64         \n",
      " 59  amenity_dishwasher                  5975 non-null   int64         \n",
      " 60  amenity_free_parking_on_premises    5975 non-null   int64         \n",
      " 61  amenity_long_term_stays_allowed     5975 non-null   int64         \n",
      " 62  amenity_self_check-in               5975 non-null   int64         \n",
      " 63  amenity_dedicated_workspace         5975 non-null   int64         \n",
      " 64  amenity_oven                        5975 non-null   int64         \n",
      " 65  amenity_first_aid_kit               5975 non-null   int64         \n",
      " 66  amenity_bathtub                     5975 non-null   int64         \n",
      " 67  amenity_extra_pillows_and_blankets  5975 non-null   int64         \n",
      " 68  amenity_hot_water_kettle            5975 non-null   int64         \n",
      " 69  amenity_private_entrance            5975 non-null   int64         \n",
      " 70  amenity_cleaning_products           5975 non-null   int64         \n",
      " 71  host_verification_phone             5975 non-null   int64         \n",
      " 72  host_verification_email             5975 non-null   int64         \n",
      " 73  host_verification_work_email        5975 non-null   int64         \n",
      " 74  host_verification_photographer      5975 non-null   int64         \n",
      "dtypes: datetime64[ns](3), float64(9), int32(4), int64(51), object(8)\n",
      "memory usage: 3.3+ MB\n"
     ]
    }
   ],
   "source": [
    "df_subset.info()"
   ]
  }
 ],
 "metadata": {
  "kernelspec": {
   "display_name": "base",
   "language": "python",
   "name": "python3"
  },
  "language_info": {
   "codemirror_mode": {
    "name": "ipython",
    "version": 3
   },
   "file_extension": ".py",
   "mimetype": "text/x-python",
   "name": "python",
   "nbconvert_exporter": "python",
   "pygments_lexer": "ipython3",
   "version": "3.8.16"
  },
  "orig_nbformat": 4
 },
 "nbformat": 4,
 "nbformat_minor": 2
}
